{
  "nbformat": 4,
  "nbformat_minor": 0,
  "metadata": {
    "colab": {
      "private_outputs": true,
      "provenance": [],
      "authorship_tag": "ABX9TyOF6ShDI5cCqRlOjBpiMzZE",
      "include_colab_link": true
    },
    "kernelspec": {
      "name": "python3",
      "display_name": "Python 3"
    },
    "language_info": {
      "name": "python"
    }
  },
  "cells": [
    {
      "cell_type": "markdown",
      "metadata": {
        "id": "view-in-github",
        "colab_type": "text"
      },
      "source": [
        "<a href=\"https://colab.research.google.com/github/mahmoudmagdyhassan/streamlit-example/blob/master/new_yorkcity.ipynb\" target=\"_parent\"><img src=\"https://colab.research.google.com/assets/colab-badge.svg\" alt=\"Open In Colab\"/></a>"
      ]
    },
    {
      "cell_type": "code",
      "execution_count": null,
      "metadata": {
        "id": "NpiAcz-ezdeh"
      },
      "outputs": [],
      "source": [
        "!pip install streamlit==1.22.0\n"
      ]
    },
    {
      "cell_type": "code",
      "source": [
        "import pandas as pd\n",
        "import matplotlib.pyplot as plt\n",
        "import seaborn as sns\n",
        "sns.set()\n",
        "import plotly.express as px"
      ],
      "metadata": {
        "id": "qoWe9-hybm_B"
      },
      "execution_count": null,
      "outputs": []
    },
    {
      "cell_type": "code",
      "source": [
        "df = pd.read_csv('/content/AB_NYC_2019.csv')\n",
        "df.head()\n",
        "df.head(3).T"
      ],
      "metadata": {
        "id": "d-bSLdvdz3JX"
      },
      "execution_count": null,
      "outputs": []
    },
    {
      "cell_type": "code",
      "source": [
        "df.info()"
      ],
      "metadata": {
        "id": "54TVMKVq0UiR"
      },
      "execution_count": null,
      "outputs": []
    },
    {
      "cell_type": "code",
      "source": [
        "pd.options.display.float_format = '{:,.2f}'.format"
      ],
      "metadata": {
        "id": "0KK8abfy0X6i"
      },
      "execution_count": null,
      "outputs": []
    },
    {
      "cell_type": "code",
      "source": [
        "df.describe()"
      ],
      "metadata": {
        "id": "5Uv8Cz3f0ZOx"
      },
      "execution_count": null,
      "outputs": []
    },
    {
      "cell_type": "code",
      "source": [
        "df.describe(include='object')"
      ],
      "metadata": {
        "id": "S01yrhjE0U9T"
      },
      "execution_count": null,
      "outputs": []
    },
    {
      "cell_type": "code",
      "source": [
        "round(df.isnull().mean() * 100,2)"
      ],
      "metadata": {
        "id": "5L0goepl05A9"
      },
      "execution_count": null,
      "outputs": []
    },
    {
      "cell_type": "code",
      "source": [
        "df.drop(['id', 'name', 'host_name'], axis=1, inplace=True)"
      ],
      "metadata": {
        "id": "XOz5KzIB1P3M"
      },
      "execution_count": null,
      "outputs": []
    },
    {
      "cell_type": "code",
      "source": [
        "df[df.reviews_per_month .isnull()].head(5).T\n"
      ],
      "metadata": {
        "id": "WVC1rxAN1P8v"
      },
      "execution_count": null,
      "outputs": []
    },
    {
      "cell_type": "code",
      "source": [
        "df[df.last_review.isnull()].head(5).T"
      ],
      "metadata": {
        "id": "AOytQOX01kl1"
      },
      "execution_count": null,
      "outputs": []
    },
    {
      "cell_type": "code",
      "source": [
        "df.reviews_per_month.fillna(0, inplace=True)\n"
      ],
      "metadata": {
        "id": "f8oAwtSc2HIp"
      },
      "execution_count": null,
      "outputs": []
    },
    {
      "cell_type": "code",
      "source": [
        "df.last_review = pd.to_datetime(df.last_review)"
      ],
      "metadata": {
        "id": "D7T9duqUOAFn"
      },
      "execution_count": null,
      "outputs": []
    },
    {
      "cell_type": "code",
      "source": [
        "df.last_review.min(), df.last_review.max()"
      ],
      "metadata": {
        "id": "fX4FgPjv2IQQ"
      },
      "execution_count": null,
      "outputs": []
    },
    {
      "cell_type": "code",
      "source": [
        "df.last_review.fillna(df.last_review.min(), inplace=True)"
      ],
      "metadata": {
        "id": "i7OJ9BEi2NYC"
      },
      "execution_count": null,
      "outputs": []
    },
    {
      "cell_type": "code",
      "source": [
        "df.isnull().sum()"
      ],
      "metadata": {
        "id": "jUxcXt7_2Nma"
      },
      "execution_count": null,
      "outputs": []
    },
    {
      "cell_type": "code",
      "source": [
        " !pip install pandas_profiling"
      ],
      "metadata": {
        "id": "4tCF8BRhO2SJ"
      },
      "execution_count": null,
      "outputs": []
    },
    {
      "cell_type": "code",
      "source": [
        "import pandas_profiling\n",
        "profile = pandas_profiling.ProfileReport(df)\n",
        "#profile"
      ],
      "metadata": {
        "id": "GjgIanOlPEOl"
      },
      "execution_count": null,
      "outputs": []
    },
    {
      "cell_type": "code",
      "source": [
        "profile.to_file(output_file=\"Air_bnb.html\")\n"
      ],
      "metadata": {
        "id": "gjeBLM2-PISC"
      },
      "execution_count": null,
      "outputs": []
    },
    {
      "cell_type": "code",
      "source": [
        "cat_cols = df.select_dtypes(include='object').columns.tolist()\n",
        "cat_cols"
      ],
      "metadata": {
        "id": "dBGhYYH32Z5P"
      },
      "execution_count": null,
      "outputs": []
    },
    {
      "cell_type": "code",
      "source": [
        "num_cols = df.select_dtypes(exclude='object').columns.tolist()\n",
        "num_cols"
      ],
      "metadata": {
        "id": "Mn9rwwD6Ugaz"
      },
      "execution_count": null,
      "outputs": []
    },
    {
      "cell_type": "code",
      "source": [
        "# explore categorical variables\n",
        "for col in cat_cols:\n",
        "    print(f'{col}: {df[col].nunique()}')\n"
      ],
      "metadata": {
        "id": "Dp0ypEfd2dH4"
      },
      "execution_count": null,
      "outputs": []
    },
    {
      "cell_type": "code",
      "source": [
        "df.neighbourhood_group.value_counts()"
      ],
      "metadata": {
        "id": "c9zarG_O8Is_"
      },
      "execution_count": null,
      "outputs": []
    },
    {
      "cell_type": "code",
      "source": [
        "nhg_pct = df.neighbourhood_group.value_counts(normalize = True)\n",
        "nhg_pct"
      ],
      "metadata": {
        "id": "bhWiUamv2N1k"
      },
      "execution_count": null,
      "outputs": []
    },
    {
      "cell_type": "code",
      "source": [
        "plt.pie(nhg_pct, labels=nhg_pct.index, autopct='%1.1f%%');\n",
        "#px.pie(nhg_pct, values=nhg_pct.values, names=nhg_pct.index, title='Neighbourhood Group')"
      ],
      "metadata": {
        "id": "KNPYjN9Q8X4t"
      },
      "execution_count": null,
      "outputs": []
    },
    {
      "cell_type": "code",
      "source": [
        "df.groupby(['neighbourhood_group', 'room_type'])['price'].mean()"
      ],
      "metadata": {
        "id": "MCaShQbAP-At"
      },
      "execution_count": null,
      "outputs": []
    },
    {
      "cell_type": "code",
      "source": [
        "sns.barplot(x='neighbourhood_group', y='price', hue='room_type', data=df, order=df.neighbourhood_group.value_counts().index);"
      ],
      "metadata": {
        "id": "6j7Sibva-D_0"
      },
      "execution_count": null,
      "outputs": []
    },
    {
      "cell_type": "code",
      "source": [
        "#Task 2: Fint the top 10 \"neighbouhood\" in price for every room type in NYC. Visualize\n",
        "# Intersted in some city\n",
        "def get_prices(city,  room_type):\n",
        "\n",
        "    data = df[(df.neighbourhood_group == city)  & (df.room_type == room_type)]\n",
        "    data = data.groupby(['neighbourhood'])['price'].max()\n",
        "    return data"
      ],
      "metadata": {
        "id": "1ns7CULuAoa-"
      },
      "execution_count": null,
      "outputs": []
    },
    {
      "cell_type": "code",
      "source": [
        "get_prices('Manhattan', 'Private room').nlargest(10)"
      ],
      "metadata": {
        "id": "qPr-zUVMVDb2"
      },
      "execution_count": null,
      "outputs": []
    },
    {
      "cell_type": "code",
      "source": [
        "get_prices('Manhattan', 'Shared room').nlargest(10)"
      ],
      "metadata": {
        "id": "5Z8612MUVNmL"
      },
      "execution_count": null,
      "outputs": []
    },
    {
      "cell_type": "code",
      "source": [
        "get_prices('Manhattan', 'Entire home/apt').nlargest(10)"
      ],
      "metadata": {
        "id": "-TC9fEcAVTv3"
      },
      "execution_count": null,
      "outputs": []
    },
    {
      "cell_type": "code",
      "source": [
        "df.room_type.unique()"
      ],
      "metadata": {
        "id": "qe2y1vPZSC9r"
      },
      "execution_count": null,
      "outputs": []
    },
    {
      "cell_type": "code",
      "source": [
        "max_room=df.groupby(['neighbourhood_group','neighbourhood', 'room_type'])['price'].max().nlargest(10).sort_values(ascending=False).reset_index()\n",
        "max_room"
      ],
      "metadata": {
        "id": "1i1XpULoWRI6"
      },
      "execution_count": null,
      "outputs": []
    },
    {
      "cell_type": "code",
      "source": [
        "sns.countplot(y='neighbourhood', data=max_room, order=max_room.neighbourhood.value_counts().nlargest(10).index);"
      ],
      "metadata": {
        "id": "akcelVb-XqZQ"
      },
      "execution_count": null,
      "outputs": []
    },
    {
      "cell_type": "code",
      "source": [
        "sns.barplot(x='neighbourhood_group', y='price', hue='room_type', data=df, order=df.neighbourhood_group.value_counts().index);"
      ],
      "metadata": {
        "id": "efMXnaLAVo63"
      },
      "execution_count": null,
      "outputs": []
    },
    {
      "cell_type": "code",
      "source": [
        "# # facetgrid\n",
        "g = sns.FacetGrid(df, col='room_type', height=4, aspect=1.5, palette='Set1')\n",
        "g.map(sns.barplot, 'neighbourhood_group', 'price', order=df.neighbourhood_group.value_counts().index);"
      ],
      "metadata": {
        "id": "IrZ-K89AA2VZ"
      },
      "execution_count": null,
      "outputs": []
    },
    {
      "cell_type": "code",
      "source": [
        "pd.crosstab(index = df.neighbourhood, columns = df.room_type, values = df.price, aggfunc='mean')"
      ],
      "metadata": {
        "id": "y-zg5joXEVHO"
      },
      "execution_count": null,
      "outputs": []
    },
    {
      "cell_type": "code",
      "source": [
        "nh_group_room = pd.pivot_table(df, index='neighbourhood_group', columns='room_type', values='price', aggfunc='mean')\n",
        "nh_group_room"
      ],
      "metadata": {
        "id": "qciv_Y-2EVK8"
      },
      "execution_count": null,
      "outputs": []
    },
    {
      "cell_type": "code",
      "source": [
        "plt.figure(figsize=(12, 8))\n",
        "sns.heatmap(nh_group_room, annot=True, fmt='.0f');"
      ],
      "metadata": {
        "id": "zYZK2FEbEVO2"
      },
      "execution_count": null,
      "outputs": []
    },
    {
      "cell_type": "code",
      "source": [
        "px.histogram(df, x='price', color='room_type')"
      ],
      "metadata": {
        "id": "UwoASda8YDZZ"
      },
      "execution_count": null,
      "outputs": []
    },
    {
      "cell_type": "code",
      "source": [
        "\n",
        "df.host_id.value_counts().nlargest(10)"
      ],
      "metadata": {
        "id": "blSIgK1JBk--"
      },
      "execution_count": null,
      "outputs": []
    },
    {
      "cell_type": "code",
      "source": [],
      "metadata": {
        "id": "AjcRR67vYI6E"
      },
      "execution_count": null,
      "outputs": []
    },
    {
      "cell_type": "code",
      "source": [
        "df.neighbourhood.value_counts().nlargest(10)"
      ],
      "metadata": {
        "id": "704Gic3oFVYV"
      },
      "execution_count": null,
      "outputs": []
    },
    {
      "cell_type": "code",
      "source": [
        "sns.countplot(y='neighbourhood', data=df, order=df.neighbourhood.value_counts().nlargest(10).index);"
      ],
      "metadata": {
        "id": "HwzAa_yRFV3X"
      },
      "execution_count": null,
      "outputs": []
    },
    {
      "cell_type": "code",
      "source": [
        "df.groupby('neighbourhood')['price'].median().nlargest(10)"
      ],
      "metadata": {
        "id": "u-LiJJspFhEd"
      },
      "execution_count": null,
      "outputs": []
    },
    {
      "cell_type": "code",
      "source": [
        "df.groupby(['neighbourhood_group', 'neighbourhood'])['price'].median().nlargest(10)"
      ],
      "metadata": {
        "id": "fm004RXGFyGs"
      },
      "execution_count": null,
      "outputs": []
    },
    {
      "cell_type": "code",
      "source": [
        "data = df.groupby(['neighbourhood_group', 'neighbourhood', 'room_type'])['price'].mean().nlargest(10).reset_index()\n",
        "data"
      ],
      "metadata": {
        "id": "vS-B9QbTFyN7"
      },
      "execution_count": null,
      "outputs": []
    },
    {
      "cell_type": "code",
      "source": [
        "# Intersted in some city\n",
        "def get_prices(city, max_price=200, room_type='Entire home/apt'):\n",
        "\n",
        "    data = df[(df.neighbourhood_group == city) & (df.price < max_price) & (df.room_type == room_type)]\n",
        "    data = data.groupby(['neighbourhood'])['price'].mean()\n",
        "    return data"
      ],
      "metadata": {
        "id": "d6vbKVcqFySE"
      },
      "execution_count": null,
      "outputs": []
    },
    {
      "cell_type": "code",
      "source": [
        "get_prices('Manhattan', 150, 'Private room').nlargest(5)"
      ],
      "metadata": {
        "id": "gycgUN3hGX4e"
      },
      "execution_count": null,
      "outputs": []
    },
    {
      "cell_type": "code",
      "source": [
        "get_prices('Manhattan', 10000, 'Private room').nsmallest(10)"
      ],
      "metadata": {
        "id": "Ehn9G9IjGquk"
      },
      "execution_count": null,
      "outputs": []
    },
    {
      "cell_type": "code",
      "source": [
        "px.histogram(df, x='price', color='room_type')"
      ],
      "metadata": {
        "id": "jbIhmqpzGuDl"
      },
      "execution_count": null,
      "outputs": []
    },
    {
      "cell_type": "code",
      "source": [
        "df.host_id.value_counts().nlargest(10)"
      ],
      "metadata": {
        "id": "SuTakaHOIzBu"
      },
      "execution_count": null,
      "outputs": []
    },
    {
      "cell_type": "code",
      "source": [
        "plt.figure(figsize=(12, 8))\n",
        "sns.scatterplot(x='longitude', y='latitude', data=df, hue='neighbourhood_group', palette='Set1');"
      ],
      "metadata": {
        "id": "nb3E5xC7YXdu"
      },
      "execution_count": null,
      "outputs": []
    },
    {
      "cell_type": "code",
      "source": [
        "#plt.figure(figsize=(12, 8))\n",
        "#sns.scatterplot(x='longitude', y='latitude', data=df, hue='neighbourhood_group', palette='Set1');\n",
        "#px.scatter(df, x='longitude', y='latitude', color='neighbourhood_group' )\n",
        "#px.scatter(df, x='longitude', y='latitude', color='neighbourhood_group', size='price', size_max=15, hover_name='neighbourhood')"
      ],
      "metadata": {
        "id": "gDamOqBhIz3R"
      },
      "execution_count": null,
      "outputs": []
    },
    {
      "cell_type": "code",
      "source": [
        "plt.figure(figsize=(12, 8))\n",
        "sns.scatterplot(x='longitude', y='latitude', data=df[df.price>1000], hue='neighbourhood_group', palette='Set1');"
      ],
      "metadata": {
        "id": "z3VmQzyHJtbE"
      },
      "execution_count": null,
      "outputs": []
    },
    {
      "cell_type": "code",
      "source": [
        "plt.figure(figsize=(12, 8))\n",
        "sns.scatterplot(x='longitude', y='latitude', data=df[df.price<1000], hue='neighbourhood_group', palette='Set1');"
      ],
      "metadata": {
        "id": "myMiE3l1JaK6"
      },
      "execution_count": null,
      "outputs": []
    },
    {
      "cell_type": "code",
      "source": [
        "df.price.describe()"
      ],
      "metadata": {
        "id": "fuxc-VquJ95z"
      },
      "execution_count": null,
      "outputs": []
    },
    {
      "cell_type": "code",
      "source": [
        "sns.boxplot(x='price', data=df);"
      ],
      "metadata": {
        "id": "06hjPtvjKVEt"
      },
      "execution_count": null,
      "outputs": []
    },
    {
      "cell_type": "code",
      "source": [
        "df[df.price < 1000].price.hist(bins=100);"
      ],
      "metadata": {
        "id": "ulP_tnGnKdHW"
      },
      "execution_count": null,
      "outputs": []
    },
    {
      "cell_type": "code",
      "source": [
        "df.availability_365.value_counts()"
      ],
      "metadata": {
        "id": "wX0dIRhfKzCw"
      },
      "execution_count": null,
      "outputs": []
    },
    {
      "cell_type": "code",
      "source": [
        "df.minimum_nights.value_counts()"
      ],
      "metadata": {
        "id": "pJkTGnKQK46O"
      },
      "execution_count": null,
      "outputs": []
    },
    {
      "cell_type": "code",
      "source": [
        "px.histogram(df, x='reviews_per_month')"
      ],
      "metadata": {
        "id": "AQD4rqvPZWHz"
      },
      "execution_count": null,
      "outputs": []
    },
    {
      "cell_type": "code",
      "source": [
        "px.histogram(df, x='number_of_reviews')"
      ],
      "metadata": {
        "id": "6Chk0D4TZYSp"
      },
      "execution_count": null,
      "outputs": []
    },
    {
      "cell_type": "code",
      "source": [
        "sns.countplot(y='reviews_per_month', data=df, order=df.reviews_per_month.value_counts().nlargest(15).index);"
      ],
      "metadata": {
        "id": "_TYi0aNmLBwC"
      },
      "execution_count": null,
      "outputs": []
    },
    {
      "cell_type": "code",
      "source": [
        "lat = 40.7128\n",
        "lon = -74.0060\n",
        "\n",
        "# create \"distance\" feature\n",
        "import geopy.distance\n",
        "\n",
        "def get_distance(lat1, lon1, lat2=lat, lon2=lon):\n",
        "    coords_1 = (lat1, lon1)\n",
        "    coords_2 = (lat2, lon2)\n",
        "    return geopy.distance.distance(coords_1, coords_2).km\n",
        "\n",
        "df['distance'] = df.apply(lambda x: get_distance(x.latitude, x.longitude), axis=1)"
      ],
      "metadata": {
        "id": "PRwlf5ZXLhLq"
      },
      "execution_count": null,
      "outputs": []
    },
    {
      "cell_type": "code",
      "source": [
        "df.corrwith(df.distance)['price']"
      ],
      "metadata": {
        "id": "CqQg59X7MfSh"
      },
      "execution_count": null,
      "outputs": []
    },
    {
      "cell_type": "code",
      "source": [
        "df.groupby('neighbourhood_group')['distance'].mean()"
      ],
      "metadata": {
        "id": "qHBdgb49Lvnk"
      },
      "execution_count": null,
      "outputs": []
    },
    {
      "cell_type": "code",
      "source": [
        "df2= df[df.price<1000]\n",
        "df2.groupby(['neighbourhood_group', 'neighbourhood', 'room_type'])['price'].median().nlargest(10).reset_index()"
      ],
      "metadata": {
        "id": "fxY151rNMF_s"
      },
      "execution_count": null,
      "outputs": []
    },
    {
      "cell_type": "code",
      "source": [
        "df.to_csv(\"NYC_2019new.csv\")"
      ],
      "metadata": {
        "id": "NI6R0BiFb5ka"
      },
      "execution_count": null,
      "outputs": []
    },
    {
      "cell_type": "code",
      "source": [
        "%%writefile newyorkapplication4.py\n",
        "\n",
        "import pandas as pd\n",
        "import matplotlib.pyplot as plt\n",
        "\n",
        "import streamlit as st\n",
        "import plotly.express as px\n",
        "from PIL import Image\n",
        "\n",
        "\n",
        "st.set_page_config (page_title = 'New York City  EDA 🚴‍♂️' , layout = \"wide\" , page_icon = '📊')\n",
        "Data_Info , Univariate , Bivariate  , Multivariate,program = st.tabs (['Data Information 💾' , 'Univariate Analysis 🔴'  , 'Bivariate Analysis 🟠' , 'Multivariate Analysis🟢','program 🟢'])\n",
        "\n",
        "@st.cache\n",
        "def load_data():\n",
        "    df = pd.read_csv('/content/NYC_2019new.csv')\n",
        "    df.last_review = pd.to_datetime(df.last_review)\n",
        "\n",
        "    return df\n",
        "\n",
        "df = load_data()\n",
        "with Data_Info:\n",
        "    with st.container():\n",
        "        st.markdown('''This app is created to analyze new york city according regions.''')\n",
        "        st.header(\"Data Describe  💾\")\n",
        "        DI_select = st.selectbox('Please select:',['Please select','All Columns' , 'Categorical' , 'Numerical' , 'custom'])\n",
        "        if DI_select == 'Please select':\n",
        "            st.write(\":red[Please Choise a column from the list:]\")\n",
        "        elif DI_select == 'All Columns':\n",
        "            st.write(\":violet[Describe Table (All Columns):]\")\n",
        "            st.dataframe(data=df.describe().T , use_container_width=True)\n",
        "        elif DI_select == 'Numerical':\n",
        "            st.write(\":orange[*Describe Table (All Numerical):*]\")\n",
        "            st.dataframe(data=df.describe(exclude = ['object']).T , use_container_width=True)\n",
        "        elif DI_select == 'Categorical':\n",
        "            st.write(\":orange[*Describe Table (All Categorical):*]\")\n",
        "            st.dataframe(data=df.describe(include = ['object']).T , use_container_width=True)\n",
        "        else:\n",
        "            columns = st.selectbox('Please select:',df.columns.tolist())\n",
        "            st.write(\":orange[*Describe Table for :*]\",columns)\n",
        "            st.dataframe(data=df[columns].describe())\n",
        "\n",
        "    with st.container():\n",
        "        pd.options.display.float_format = '{:,.0f}'.format\n",
        "        st.header(\"Data Information\")\n",
        "        DataInfo = st.checkbox(\"Show Data Info\")\n",
        "        if DataInfo :\n",
        "            st.dataframe(data=df.dtypes.reset_index(name='Type'), hide_index=True, use_container_width=True)\n",
        "\n",
        "    with st.container():\n",
        "        st.subheader('Heatmap Corrolation')\n",
        "        corrolation = st.checkbox('Show Corrolations')\n",
        "        if corrolation :\n",
        "            cor = df.select_dtypes(exclude='object').corr()\n",
        "            fig_corr = px.imshow(cor , text_auto=True , width= 900 , height= 900  , color_continuous_scale='rdbu')\n",
        "            st.plotly_chart(fig_corr,use_container_width=True)\n",
        "\n",
        "        st.subheader(\"Hierarchical view of price using TreeMap\")\n",
        "        fig3 = px.treemap(df, path = [\"neighbourhood_group\",\"neighbourhood\",\"room_type\"], values = \"price\",hover_data = [\"price\"],color = \"room_type\")\n",
        "        st.plotly_chart(fig3, use_container_width=True)\n",
        "\n",
        "\n",
        "\n",
        "with Univariate:\n",
        "    with st.container():\n",
        "        st.header('Univariate Analysis 🔴')\n",
        "\n",
        "        lst=st.selectbox('Select yaxis :',['please select','neighbourhood_group','neighbourhood','price'])\n",
        "        if lst == 'please select':\n",
        "            st.write(\":red[pleas choise a column from the list]\")\n",
        "\n",
        "        else:\n",
        "            fig=px.pie(data_frame=df,names=lst,color=\"room_type\")\n",
        "            fig1=px.histogram(data_frame=df,x=lst,color=\"room_type\")\n",
        "\n",
        "            st.plotly_chart(fig,use_container_width=True)\n",
        "            st.plotly_chart(fig1,use_container_width=True)\n",
        "with Bivariate:\n",
        "    with st.container():\n",
        "        st.header('Univariate Analysis 🔴')\n",
        "\n",
        "        col1, col2, col3 = st.columns((3))\n",
        "        with col1:\n",
        "            x=st.selectbox('Select xaxis :',[\"please selectx\",\"neighbourhood_group\",'neighbourhood','latitude','longitude','room_type','price','minimum_nights',\n",
        "                           \"last_review\",\"reviews_per_month\",\"distance\"])\n",
        "        with col2:\n",
        "            y=st.selectbox('Select yaxis :',[\"please selecty\",\"neighbourhood_group\",'neighbourhood','latitude','longitude','room_type','price','minimum_nights',\n",
        "                           \"last_review\",\"reviews_per_month\",\"distance\"])\n",
        "\n",
        "        with col3:\n",
        "            color=st.selectbox('Select coloraxis :',[\"please selecty color\",'room_type','neighbourhood_group'])\n",
        "\n",
        "\n",
        "        if x==\"please selectx\" or y==\"please selecty\" or color==\"please selecty color\" :\n",
        "            st.write(\":red[please choise for x&y&color:]\")\n",
        "        else:\n",
        "            fig= px.histogram(df, x=x, y=y, color= color)\n",
        "            fig2=px.scatter(df, x=x, y=y, color=color )\n",
        "            fig_bi_1 = px.line(df , x = x , y = y , color=color , markers=True)\n",
        "            fig_bi_2=px.box(df, x=x, y=y, color= color)\n",
        "            fig3 = px.area(df, x=x, y=y,color=color)\n",
        "\n",
        "            st.plotly_chart(fig,use_container_width=True)\n",
        "            st.plotly_chart(fig2,use_container_width=True)\n",
        "            st.plotly_chart(fig_bi_1,use_container_width=True)\n",
        "            st.plotly_chart(fig_bi_2,use_container_width=True)\n",
        "            st.plotly_chart(fig3,use_container_width=True)\n",
        "\n",
        "\n",
        "\n",
        "with Multivariate:\n",
        "    with st.container():\n",
        "        st.header('Multivariate 🔴')\n",
        "        st.subheader(\"price>1000\")\n",
        "\n",
        "        col1, col2, col3 = st.columns((3))\n",
        "        with col1:\n",
        "            x=st.selectbox('Select xaxis :',[\"please selectx1\",\"neighbourhood_group\",'neighbourhood','latitude','longitude','room_type','price','minimum_nights',\n",
        "                           \"last_review\",\"reviews_per_month\",\"distance\"])\n",
        "        with col2:\n",
        "            y=st.selectbox('Select yaxis :',[\"please selecty1\",\"neighbourhood_group\",'neighbourhood','latitude','longitude','room_type','price','minimum_nights',\n",
        "                           \"last_review\",\"reviews_per_month\",\"distance\"])\n",
        "\n",
        "        with col3:\n",
        "            color=st.selectbox('Select coloraxis :',[\"please selecty color1\",'room_type','neighbourhood_group'])\n",
        "\n",
        "\n",
        "        if x==\"please selectx1\" or y==\"please selecty1\" or color==\"please selecty color1\" :\n",
        "            st.write(\":red[please choise for x&y&color:]\")\n",
        "        else:\n",
        "            df2 = df[df.price>1000]\n",
        "            fig= px.histogram(df2, x=x, y=y, color= color)\n",
        "            fig2=px.scatter(df2, x=x, y=y, color=color )\n",
        "            fig_bi_1 = px.line(df2 , x = x , y = y , color=color , markers=True)\n",
        "            fig_bi_2=px.box(df2, x=x, y=y, color= color)\n",
        "            fig4 = px.area(df2, x=x, y=y,color=color)\n",
        "\n",
        "\n",
        "            st.plotly_chart(fig,use_container_width=True)\n",
        "            st.plotly_chart(fig2,use_container_width=True)\n",
        "            st.plotly_chart(fig_bi_1,use_container_width=True)\n",
        "            st.plotly_chart(fig_bi_2,use_container_width=True)\n",
        "            st.plotly_chart(fig4,use_container_width=True)\n",
        "\n",
        "\n",
        "\n",
        "\n",
        "        st.subheader(\"price<1000\")\n",
        "\n",
        "        col1, col2, col3 = st.columns((3))\n",
        "        with col1:\n",
        "            x=st.selectbox('Select xaxis :',[\"please selectx2\",\"neighbourhood_group\",'neighbourhood','latitude','longitude','room_type','price','minimum_nights',\n",
        "                           \"last_review\",\"reviews_per_month\",\"distance\"])\n",
        "        with col2:\n",
        "            y=st.selectbox('Select yaxis :',[\"please selecty2\",\"neighbourhood_group\",'neighbourhood','latitude','longitude','room_type','price','minimum_nights',\n",
        "                           \"last_review\",\"reviews_per_month\",\"distance\"])\n",
        "\n",
        "        with col3:\n",
        "            color=st.selectbox('Select coloraxis :',[\"please selecty color2\",'room_type','neighbourhood_group'])\n",
        "\n",
        "\n",
        "        if x==\"please selectx2\" or y==\"please selecty2\" or color==\"please selecty color2\" :\n",
        "            st.write(\":red[please choise for x&y&color:]\")\n",
        "        else:\n",
        "            df3 = df[df.price<1000]\n",
        "            fig= px.histogram(df3, x=x, y=y, color= color)\n",
        "            fig2=px.scatter(df3, x=x, y=y, color=color )\n",
        "            fig_bi_1 = px.line(df3 , x = x , y = y , color=color , markers=True)\n",
        "            fig_bi_2=px.box(df3, x=x, y=y, color= color)\n",
        "            fig5 = px.area(df3, x=x, y=y,color=color)\n",
        "\n",
        "\n",
        "            st.plotly_chart(fig,use_container_width=True)\n",
        "            st.plotly_chart(fig2,use_container_width=True)\n",
        "            st.plotly_chart(fig_bi_1,use_container_width=True)\n",
        "            st.plotly_chart(fig_bi_2,use_container_width=True)\n",
        "            st.plotly_chart(fig5,use_container_width=True)\n",
        "\n",
        "with program:\n",
        "    with st.container():\n",
        "        st.header('program 🔴')\n",
        "        st.subheader(\"chosie a sutibale place for you\")\n",
        "        region=st.selectbox(\"please select region:\",df.neighbourhood_group.unique())\n",
        "        price = st.slider('price?', 0, 15000, 500)\n",
        "        roomtype=st.selectbox(\"please selectroomtype:\",df.room_type.unique())\n",
        "        if region==\"please select region\" or price==\"price?\" or roomtype==\"please selectroomtype:\" :\n",
        "            st.write(\":red[please choise :]\")\n",
        "\n",
        "        else:\n",
        "            data=df[(df.neighbourhood_group==region)&(df.price<price)&(df.room_type==roomtype)]\n",
        "            data = data.groupby(['neighbourhood'])['price'].mean()\n",
        "            st.write(data)\n",
        "\n",
        "\n",
        "            st.map(df)\n",
        "\n",
        "\n",
        "\n"
      ],
      "metadata": {
        "id": "qKtTLQ5TdleK"
      },
      "execution_count": null,
      "outputs": []
    },
    {
      "cell_type": "code",
      "source": [
        "!streamlit run newyorkapplication4.py &>/content/logs.txt &npx localtunnel --port 8501 & curl ipv4. icanhazip.com"
      ],
      "metadata": {
        "id": "0ALWoQ1ccSTn"
      },
      "execution_count": null,
      "outputs": []
    },
    {
      "cell_type": "code",
      "source": [
        "!npm install localtunnel"
      ],
      "metadata": {
        "id": "CWv9z-tWcNNk"
      },
      "execution_count": null,
      "outputs": []
    },
    {
      "cell_type": "code",
      "source": [],
      "metadata": {
        "id": "qelbUinscOAi"
      },
      "execution_count": null,
      "outputs": []
    },
    {
      "cell_type": "code",
      "source": [],
      "metadata": {
        "id": "l42fekJpb1_V"
      },
      "execution_count": null,
      "outputs": []
    }
  ]
}